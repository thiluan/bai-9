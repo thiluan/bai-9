{
 "cells": [
  {
   "cell_type": "code",
   "execution_count": 2,
   "id": "3c1c90b1",
   "metadata": {},
   "outputs": [
    {
     "name": "stdout",
     "output_type": "stream",
     "text": [
      "nhâp so bat ki: 5\n",
      "số của máy:  6\n",
      "you lost\n",
      "nhâp so bat ki: 6\n",
      "số của máy:  6\n",
      "Chúc mừng\n",
      "kết thúc chương trình\n"
     ]
    }
   ],
   "source": [
    "#Xây dựng trò chơi đoán số với các yêu cầu sau:\n",
    "# Chọn số ngẫu nhiên trong khoảng 1 đến 10\n",
    "#Người dùng đoán và nhập vào một giá trị\n",
    "#So sánh giá trị nhập vào với giá trị ngẫu nhiên\n",
    "#Nếu bằng thì hiển thị thông báo chúc mừng và kết thúc lượt chơi\n",
    "#Nếu lớn hơn hoặc bé hơn thì hiển thị thông báo và cho phép người dùng đoán lại\n",
    "#Chỉ được đoán tối đa 3 lần. Quá 3 lần sai sẽ thông báo hết số lần đoán và kết thúc lượt chơi.\n",
    "\n",
    "\n",
    "\n",
    "import random\n",
    "b=random.randint(1,10)\n",
    "for i in range(3):\n",
    "    a=int(input(\"nhâp so bat ki: \"))\n",
    "    print(\"số của máy: \",b)\n",
    "    if a==b:\n",
    "        print(\"Chúc mừng\")\n",
    "        break\n",
    "    else:\n",
    "        print(\"you lost\")       \n",
    "print(\"kết thúc chương trình\")        "
   ]
  },
  {
   "cell_type": "code",
   "execution_count": null,
   "id": "7c53b089",
   "metadata": {},
   "outputs": [],
   "source": []
  }
 ],
 "metadata": {
  "kernelspec": {
   "display_name": "Python 3",
   "language": "python",
   "name": "python3"
  },
  "language_info": {
   "codemirror_mode": {
    "name": "ipython",
    "version": 3
   },
   "file_extension": ".py",
   "mimetype": "text/x-python",
   "name": "python",
   "nbconvert_exporter": "python",
   "pygments_lexer": "ipython3",
   "version": "3.8.8"
  }
 },
 "nbformat": 4,
 "nbformat_minor": 5
}
