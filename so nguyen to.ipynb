{
 "cells": [
  {
   "cell_type": "code",
   "execution_count": 1,
   "id": "e62819fa",
   "metadata": {},
   "outputs": [],
   "source": [
    "#Viết một ứng dụng cho phép nhập vào 1 số nguyên dương (>= 2) và xác định số\n",
    "#đó có phải là một số nguyên tố hay không.\n",
    "#Định nghĩa: Số nguyên tố là số tự nhiên lớn hơn 1 không phải là tích của hai số\n",
    "#tự nhiên nhỏ hơn. Nói cách khác, số nguyên tố là những số chỉ chỉ chia hết cho 1\n",
    "#và chính nó."
   ]
  },
  {
   "cell_type": "code",
   "execution_count": 28,
   "id": "6bbd72f4",
   "metadata": {},
   "outputs": [
    {
     "name": "stdout",
     "output_type": "stream",
     "text": [
      "nhập một số nguyên bất kỳ: 6\n",
      "6 không là số nguyên tố\n"
     ]
    }
   ],
   "source": [
    "a=int(input(\"nhập một số nguyên bất kỳ: \"))\n",
    "if a<2:\n",
    "    print(\"số bạn nhập không hợp lệ\")\n",
    "    a=int(input(\"Nhập một số nguyên bất kỳ: \"))\n",
    "if a==2:  \n",
    "    print(a, \"là số nguyên tố\")   \n",
    "else:\n",
    "    for i in range(2,a):\n",
    "        if a%i==0:\n",
    "            print(a, \"không là số nguyên tố\")\n",
    "            break\n",
    "    else:\n",
    "        print(a, \"là số nguyên tố\")\n",
    "      "
   ]
  },
  {
   "cell_type": "code",
   "execution_count": null,
   "id": "899017ed",
   "metadata": {},
   "outputs": [],
   "source": []
  },
  {
   "cell_type": "code",
   "execution_count": null,
   "id": "1b11d39a",
   "metadata": {},
   "outputs": [],
   "source": [
    "https://www.hackerrank.com/contests/hoadh-basic-exercises/challenges\n",
    "https://www.hackerrank.com/contests/hoadh-basic-exercises/challenges/chuoi-lap\n",
    "https://www.hackerrank.com/contests/hoadh-basic-exercises/challenges/xau-doi-xung\n"
   ]
  },
  {
   "cell_type": "code",
   "execution_count": null,
   "id": "09dbb51a",
   "metadata": {},
   "outputs": [],
   "source": []
  },
  {
   "cell_type": "code",
   "execution_count": 14,
   "id": "c99a1a50",
   "metadata": {},
   "outputs": [
    {
     "name": "stdout",
     "output_type": "stream",
     "text": [
      "Nhập số nguyên dương:8\n",
      "8 không phải là số nguyên tố\n"
     ]
    }
   ],
   "source": [
    "n = int(input(\"Nhập số nguyên dương:\"))\n",
    "\n",
    "if n == 2 or n == 3 or n == 5:\n",
    "    print(f\"{n} là số nguyên tố\")\n",
    "elif n % 2 == 0 or n % 3 == 0 or n % 5 == 0:\n",
    "    print(f\"{n} không phải là số nguyên tố\")\n",
    "else:\n",
    "    print(f\"{n} là số nguyên tố\")\n"
   ]
  },
  {
   "cell_type": "code",
   "execution_count": null,
   "id": "16d5ae77",
   "metadata": {},
   "outputs": [],
   "source": []
  }
 ],
 "metadata": {
  "kernelspec": {
   "display_name": "Python 3",
   "language": "python",
   "name": "python3"
  },
  "language_info": {
   "codemirror_mode": {
    "name": "ipython",
    "version": 3
   },
   "file_extension": ".py",
   "mimetype": "text/x-python",
   "name": "python",
   "nbconvert_exporter": "python",
   "pygments_lexer": "ipython3",
   "version": "3.8.8"
  }
 },
 "nbformat": 4,
 "nbformat_minor": 5
}
