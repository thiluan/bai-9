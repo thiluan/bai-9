{
 "cells": [
  {
   "cell_type": "code",
   "execution_count": 1,
   "id": "7887cb6c",
   "metadata": {},
   "outputs": [
    {
     "name": "stdout",
     "output_type": "stream",
     "text": [
      "Your char?: *\n",
      "Width?: 5\n",
      "Height?: 10\n",
      "*****\n",
      "*   *\n",
      "*   *\n",
      "*   *\n",
      "*   *\n",
      "*   *\n",
      "*   *\n",
      "*   *\n",
      "*   *\n",
      "*****\n"
     ]
    }
   ],
   "source": [
    "char = input('Your char?: ')\n",
    "width = int(input('Width?: '))\n",
    "height = int(input('Height?: '))\n",
    "\n",
    "for i in range(1,height + 1):\n",
    "    print_str = ''\n",
    "    for j in range(1,width + 1):\n",
    "        if i == 1 or i == height:\n",
    "            print_str += char\n",
    "        else:\n",
    "            if j == 1 or j == width:\n",
    "                print_str += char\n",
    "            else:\n",
    "                print_str += ' '\n",
    "    print(print_str)"
   ]
  },
  {
   "cell_type": "code",
   "execution_count": 8,
   "id": "599a4e9d",
   "metadata": {},
   "outputs": [
    {
     "name": "stdout",
     "output_type": "stream",
     "text": [
      "Nhập biểu tượng muốn vẽ: *\n",
      "nhập vao chiều cao cn: 5\n",
      "nhập vào chiều rộng cn: 10\n",
      " **********\n",
      " *        *\n",
      " *        *\n",
      " *        *\n",
      " **********\n"
     ]
    }
   ],
   "source": [
    "bieu_tuong=input(\"Nhập biểu tượng muốn vẽ: \")\n",
    "c=int(input(\"nhập vao chiều cao cn: \"))\n",
    "r=int(input(\"nhập vào chiều rộng cn: \"))\n",
    "\n",
    "for i in range(1,c+1):\n",
    "    k=\" \"\n",
    "    for j in range(1,r+1):\n",
    "        if i==1 or i==c:\n",
    "            k+=bieu_tuong\n",
    "        else:\n",
    "            if j==1 or j==r:\n",
    "                k+=bieu_tuong\n",
    "            else:\n",
    "                k+=\" \"\n",
    "    print(k)            \n",
    "   "
   ]
  },
  {
   "cell_type": "code",
   "execution_count": null,
   "id": "53565e8f",
   "metadata": {},
   "outputs": [],
   "source": []
  }
 ],
 "metadata": {
  "kernelspec": {
   "display_name": "Python 3",
   "language": "python",
   "name": "python3"
  },
  "language_info": {
   "codemirror_mode": {
    "name": "ipython",
    "version": 3
   },
   "file_extension": ".py",
   "mimetype": "text/x-python",
   "name": "python",
   "nbconvert_exporter": "python",
   "pygments_lexer": "ipython3",
   "version": "3.8.8"
  }
 },
 "nbformat": 4,
 "nbformat_minor": 5
}
