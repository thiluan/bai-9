{
 "cells": [
  {
   "cell_type": "code",
   "execution_count": null,
   "id": "34e0e090",
   "metadata": {},
   "outputs": [],
   "source": [
    "# Trò chơi 21 là trò chơi số đếm được bắt đầu từ 0, hai người chơi lần lượt có thể thêm 1, 2 hoặc 3, vào tổng số. \n",
    "#Tổng số không được vượt quá 21 và người chơi đếm tới 21 sẽ thua.\n",
    "#Ở bài tập này, chúng ta sẽ giả định cho máy làm người chơi thứ 2.\n",
    "import random\n",
    "p1=play1 #nguoi\n",
    "p2=play2 #máy\n",
    "t=0 #\n",
    "while "
   ]
  }
 ],
 "metadata": {
  "kernelspec": {
   "display_name": "Python 3",
   "language": "python",
   "name": "python3"
  },
  "language_info": {
   "codemirror_mode": {
    "name": "ipython",
    "version": 3
   },
   "file_extension": ".py",
   "mimetype": "text/x-python",
   "name": "python",
   "nbconvert_exporter": "python",
   "pygments_lexer": "ipython3",
   "version": "3.8.8"
  }
 },
 "nbformat": 4,
 "nbformat_minor": 5
}
