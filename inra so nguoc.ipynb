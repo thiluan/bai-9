{
 "cells": [
  {
   "cell_type": "code",
   "execution_count": 1,
   "id": "412ddfd5",
   "metadata": {},
   "outputs": [
    {
     "name": "stdout",
     "output_type": "stream",
     "text": [
      "Nhập vào một số bất kì: 123\n",
      "321"
     ]
    }
   ],
   "source": [
    "a=int(input(\"Nhập vào một số bất kì: \"))\n",
    "b=0\n",
    "while b<3\n",
    "    print(a%10,end=\"\")\n",
    "    a=a//10\n",
    "    b+=1\n",
    "    "
   ]
  },
  {
   "cell_type": "code",
   "execution_count": 3,
   "id": "9ee061f7",
   "metadata": {},
   "outputs": [
    {
     "name": "stdout",
     "output_type": "stream",
     "text": [
      "Nhập vào một số bất kì: 123\n",
      "321"
     ]
    }
   ],
   "source": [
    "a=int(input(\"Nhập vào một số bất kì: \"))\n",
    "\n",
    "for x in range(3):\n",
    "    print(a%10,end=\"\")\n",
    "    a=a//10"
   ]
  },
  {
   "cell_type": "code",
   "execution_count": 3,
   "id": "72e67a92",
   "metadata": {},
   "outputs": [
    {
     "name": "stdout",
     "output_type": "stream",
     "text": [
      "87654321"
     ]
    }
   ],
   "source": [
    "a=12345678\n",
    "b=len(str(a))\n",
    "for i in range(1,b+1):\n",
    "    print( a%10,end=\"\")\n",
    "    a//=10"
   ]
  },
  {
   "cell_type": "code",
   "execution_count": null,
   "id": "71e52c30",
   "metadata": {},
   "outputs": [],
   "source": []
  }
 ],
 "metadata": {
  "kernelspec": {
   "display_name": "Python 3",
   "language": "python",
   "name": "python3"
  },
  "language_info": {
   "codemirror_mode": {
    "name": "ipython",
    "version": 3
   },
   "file_extension": ".py",
   "mimetype": "text/x-python",
   "name": "python",
   "nbconvert_exporter": "python",
   "pygments_lexer": "ipython3",
   "version": "3.8.8"
  }
 },
 "nbformat": 4,
 "nbformat_minor": 5
}
