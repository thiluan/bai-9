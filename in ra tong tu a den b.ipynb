{
 "cells": [
  {
   "cell_type": "code",
   "execution_count": 5,
   "id": "a625eb04",
   "metadata": {},
   "outputs": [
    {
     "name": "stdout",
     "output_type": "stream",
     "text": [
      "Nhập một số a bất kì: 3\n",
      "Nhập một số b bất kì: 9\n",
      "tổng các số từ a đến b: 42\n"
     ]
    }
   ],
   "source": [
    "# tính tổng\n",
    "a=int(input(\"Nhập một số a bất kì: \"))\n",
    "b=int(input(\"Nhập một số b bất kì: \"))\n",
    "tổng=0\n",
    "for i in range(a,b+1):\n",
    "    tổng+=i\n",
    "    if a>=b:\n",
    "        print(\"nhập số không hợp lệ\")\n",
    "else:\n",
    "    print(\"tổng các số từ a đến b: \"+ str(tổng))"
   ]
  },
  {
   "cell_type": "code",
   "execution_count": null,
   "id": "1c0d4b13",
   "metadata": {},
   "outputs": [],
   "source": []
  }
 ],
 "metadata": {
  "kernelspec": {
   "display_name": "Python 3",
   "language": "python",
   "name": "python3"
  },
  "language_info": {
   "codemirror_mode": {
    "name": "ipython",
    "version": 3
   },
   "file_extension": ".py",
   "mimetype": "text/x-python",
   "name": "python",
   "nbconvert_exporter": "python",
   "pygments_lexer": "ipython3",
   "version": "3.8.8"
  }
 },
 "nbformat": 4,
 "nbformat_minor": 5
}
