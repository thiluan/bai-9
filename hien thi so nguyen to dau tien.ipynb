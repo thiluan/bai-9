{
 "cells": [
  {
   "cell_type": "code",
   "execution_count": 2,
   "id": "72233382",
   "metadata": {},
   "outputs": [
    {
     "name": "stdout",
     "output_type": "stream",
     "text": [
      "nhập một số bất kỳ: 7\n",
      "2 3 5 7 11 13 17 "
     ]
    }
   ],
   "source": [
    "# Mở rộng ứng dụng xác định số nguyên tố. Cho phép nhập vào 1 số nguyên\n",
    "# dương n (> 0) và hiển thị n số nguyên tố đầu tiên.\n",
    "\n",
    "\n",
    "\n",
    "a=int(input(\"nhập một số bất kỳ: \"))\n",
    "count=0\n",
    "n=1\n",
    "while count<a:\n",
    "    n+=1\n",
    "    for i in range(2,n//2+1):\n",
    "        if n%i==0:\n",
    "            break\n",
    "    else:\n",
    "        print(n, end=\" \")\n",
    "        count+=1    \n",
    "        "
   ]
  },
  {
   "cell_type": "code",
   "execution_count": null,
   "id": "cc832ac6",
   "metadata": {},
   "outputs": [],
   "source": []
  }
 ],
 "metadata": {
  "kernelspec": {
   "display_name": "Python 3",
   "language": "python",
   "name": "python3"
  },
  "language_info": {
   "codemirror_mode": {
    "name": "ipython",
    "version": 3
   },
   "file_extension": ".py",
   "mimetype": "text/x-python",
   "name": "python",
   "nbconvert_exporter": "python",
   "pygments_lexer": "ipython3",
   "version": "3.8.8"
  }
 },
 "nbformat": 4,
 "nbformat_minor": 5
}
