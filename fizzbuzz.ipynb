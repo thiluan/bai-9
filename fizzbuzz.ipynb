{
 "cells": [
  {
   "cell_type": "code",
   "execution_count": 1,
   "id": "bd64eb4e",
   "metadata": {},
   "outputs": [],
   "source": [
    "#Fizz Buzz là một bài toán lập trình cổ điển. Đây là phiên bản sửa đổi nhẹ của nó.\n",
    "#Viết chương trình lấy đầu vào là hai số nguyên: đầu và cuối khoảng (cả hai số đều thuộc khoảng).\n",
    "#Chương trình sẽ in ra các số trong khoảng này. Nhưng nếu số đó chia hết cho 3, bạn sẽ in ra “Fizz” thay vì nó, \n",
    "#nếu số đó chia hết cho 5, in ra “Buzz” và nếu số đó chia hết cho cả 3 và 5, hãy in ra “FizzBuzz”.\n"
   ]
  },
  {
   "cell_type": "code",
   "execution_count": 3,
   "id": "d00acf25",
   "metadata": {},
   "outputs": [
    {
     "name": "stdout",
     "output_type": "stream",
     "text": [
      "nhập vào một số a bất kỳ: 1\n",
      "nhập vào một số b bất kỳ: 30\n",
      "1\n",
      "2\n",
      "3 là Fizz\n",
      "4\n",
      "5 là Buzz\n",
      "6 là Fizz\n",
      "7\n",
      "8\n",
      "9 là Fizz\n",
      "10 là Buzz\n",
      "11\n",
      "12 là Fizz\n",
      "13\n",
      "14\n",
      "15 là FizzBuzz\n",
      "16\n",
      "17\n",
      "18 là Fizz\n",
      "19\n",
      "20 là Buzz\n",
      "21 là Fizz\n",
      "22\n",
      "23\n",
      "24 là Fizz\n",
      "25 là Buzz\n",
      "26\n",
      "27 là Fizz\n",
      "28\n",
      "29\n",
      "30 là FizzBuzz\n"
     ]
    }
   ],
   "source": [
    "a=int(input(\"nhập vào một số a bất kỳ: \"))\n",
    "b=int(input(\"nhập vào một số b bất kỳ: \"))\n",
    "for i in range(a, b+1):\n",
    "    if i%3==0 and i%5==0:\n",
    "        print(i, \"là FizzBuzz\")\n",
    "    elif i%3==0:\n",
    "        print(i, \"là Fizz\")\n",
    "    elif i%5==0:\n",
    "        print(i, \"là Buzz\")\n",
    "    else:\n",
    "        print(i)"
   ]
  },
  {
   "cell_type": "code",
   "execution_count": null,
   "id": "70de9637",
   "metadata": {},
   "outputs": [],
   "source": []
  }
 ],
 "metadata": {
  "kernelspec": {
   "display_name": "Python 3",
   "language": "python",
   "name": "python3"
  },
  "language_info": {
   "codemirror_mode": {
    "name": "ipython",
    "version": 3
   },
   "file_extension": ".py",
   "mimetype": "text/x-python",
   "name": "python",
   "nbconvert_exporter": "python",
   "pygments_lexer": "ipython3",
   "version": "3.8.8"
  }
 },
 "nbformat": 4,
 "nbformat_minor": 5
}
