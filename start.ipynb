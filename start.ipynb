{
 "cells": [
  {
   "cell_type": "code",
   "execution_count": 1,
   "id": "5a389783",
   "metadata": {},
   "outputs": [],
   "source": [
    "import turtle\n",
    "import random\n",
    "t=turtle.Turtle()\n",
    "sc=turtle.Screen()\n",
    "t.speed(10)\n",
    "sc.bgcolor(\"black\")\n",
    "colors=[\"red\",\"blue\",\"green\",\"orange\",\"brown\",\"yellow\",\"grey\",\"pink\",\"black\"]\n",
    "\n",
    "for i in range(1,73):\n",
    "    r=random.randint(0,8)\n",
    "    random_color=colors[r]\n",
    "    t.color(random_color)\n",
    "    for i in range(1,6):\n",
    "        t.left(144)\n",
    "        t.forward(200)\n",
    "    t.left(5)    "
   ]
  },
  {
   "cell_type": "code",
   "execution_count": null,
   "id": "f5766c75",
   "metadata": {},
   "outputs": [],
   "source": []
  }
 ],
 "metadata": {
  "kernelspec": {
   "display_name": "Python 3",
   "language": "python",
   "name": "python3"
  },
  "language_info": {
   "codemirror_mode": {
    "name": "ipython",
    "version": 3
   },
   "file_extension": ".py",
   "mimetype": "text/x-python",
   "name": "python",
   "nbconvert_exporter": "python",
   "pygments_lexer": "ipython3",
   "version": "3.8.8"
  }
 },
 "nbformat": 4,
 "nbformat_minor": 5
}
